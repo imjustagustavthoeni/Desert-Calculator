{
 "cells": [
  {
   "cell_type": "markdown",
   "id": "b0b9482d",
   "metadata": {},
   "source": [
    "<h1 style=\"color: #D79138; text-align: center;\"> Desert Calculator </h1>"
   ]
  },
  {
   "cell_type": "markdown",
   "id": "7df11f42",
   "metadata": {},
   "source": [
    "<p style=\"color: black; text-align: center;\"> Desertification is a global environmental problem caused by the loss of fertile soil, water and biodiversity in arid, semi-arid and sub-humid areas. These areas, known as drylands, are now home to more than one billion people who depend on agriculture, livestock and other forms of natural resource use.\n",
    "</p>\n",
    "\n",
    "<p style=\"color: black; text-align: center;\">\n",
    "Desertification is caused by a combination of natural and man-made factors, including climate change, inappropriate land use, overgrazing, desert irrigation, and deforestation. However, it also has negative impacts on human health, economic growth, and social cohesion in affected communities.\n",
    "</p>\n",
    "\n",
    "<p style=\"color: black; text-align: center;\">\n",
    "The extent of desertification is alarming: Every year, the desert spreads by about 70000 square kilometers, which is roughly the size of Bavaria. This results in a loss of fertile soil and natural resources that poses existential threats to affected communities. It is important that we act to combat the problem of desertification and minimize the negative impact on people and the environment. </p>\n",
    "\n",
    "<p style=\"color: black; text-align: center;\">\n",
    "To spread some awareness for this important issue we programed a calculator based on the figuers provided by \"ardAlpha: Globale Verwüstung: Die Wüste wächst\" to make the daily loss of fertile soil more visible and reachable.\n",
    "</p>\n"
   ]
  },
  {
   "cell_type": "code",
   "execution_count": 5,
   "id": "6dd2dcef",
   "metadata": {},
   "outputs": [
    {
     "name": "stdout",
     "output_type": "stream",
     "text": [
      "Please enter a number of days: 500\n",
      "95890.41 sqkm\n",
      "correspond to the area of 1.27 times of Panama\n"
     ]
    }
   ],
   "source": [
    "while True:\n",
    "    try:\n",
    "        days = input(\"Please enter a number of days: \")\n",
    "        days = float(days)  # Konvertiere input zu float\n",
    "\n",
    "        # Berechnung der Wüstenausbreitung\n",
    "        desert_expand_per_day = 70000/365\n",
    "        result = round(days*desert_expand_per_day, 2)\n",
    "        print(str(result)+\" sqkm\")\n",
    "\n",
    "        #Liste der Städte sortieren - erste Stadt wessen Fläche kleiner als die der ausgerechten Wüstenausbreitung ist wird ausgegeben\n",
    "        cities=[[\"Zurich\",87.88],[\"Oslo\",454],[\"Tokyo\",622],[\"NewYork\",783.8],[\"Berlin\",891.8],[\"LosAngeles\", 1299],[\"Liechtenstein\",1581],[\"Luxembourg\",2586],[\"Lebanon\",10.452],[\"Belgium\",30688],[\"Netherlands\",41543],[\"Panama\",75517],[\"Germany\",357588]]\n",
    "        cities.sort(key=lambda x:x[1], reverse=True)\n",
    "        for a, b in cities:\n",
    "            if b < result:\n",
    "                print (\"correspond to the area of \"+str(round((result/b), 2))+\" times of \"+a)\n",
    "                break\n",
    "        break  # verlasse den Loop\n",
    "    except ValueError:\n",
    "        # wenn eingabe nicht korrekt ist - gebe die Nachricht aus\n",
    "        print(\"Invalid input. Please enter a valid number of days.\")\n"
   ]
  },
  {
   "cell_type": "code",
   "execution_count": null,
   "id": "ec722a54",
   "metadata": {},
   "outputs": [],
   "source": []
  },
  {
   "cell_type": "code",
   "execution_count": null,
   "id": "046745b3",
   "metadata": {},
   "outputs": [
    {
     "name": "stdout",
     "output_type": "stream",
     "text": [
      "Please type 1 to see a cause of desertification and a suggested asd fitting solution: 2\n",
      "Invalid input. Please try again.\n"
     ]
    }
   ],
   "source": [
    "import random\n",
    "\n",
    "# Flag, um zu bestimmen, ob die Eingabe \"1\" ist\n",
    "input_is_valid = False\n",
    "\n",
    "while not input_is_valid:\n",
    "  # Warte auf die Eingabe von \"1\" durch den Benutzer\n",
    "  user_input = input(\"Please type 1 to see a cause of desertification and a suggested asd fitting solution: \")\n",
    "\n",
    "  # Wenn die Eingabe des Benutzers \"1\" ist, setze das Flag auf True und beende die Schleife\n",
    "  if user_input == \"1\":\n",
    "    input_is_valid = True\n",
    "  # Wenn die Eingabe des Benutzers nicht \"1\" ist, gebe eine Fehlermeldung aus\n",
    "  else:\n",
    "    print(\"Invalid input. Please try again.\")\n",
    "\n",
    "# Liste der Begriffe\n",
    "issues = [\"Overgrazing\", \"Deforestation\", \"Farming Practices\", \"Urbanization and other types of land development\", \"Climate Change\", \"Stripping the land of resources\", \"Natural Disasters\"]\n",
    "\n",
    "# Wähle zufällig einen Begriff aus der Liste\n",
    "issue = random.choice(issues)\n",
    "\n",
    "print(\"Your issue:\",issue)\n",
    "\n",
    "if issue == \"Overgrazing\":\n",
    "  print(\"Your solution could be: Reduce factory farming and find concepts to reduce the need to keep that huge amount of animals for food\")\n",
    "elif issue == \"Deforestation\":\n",
    "  print(\"Your solution could be: Replant local growing trees and plants\")\n",
    "elif issue == \"Farming Practices\":\n",
    "  print(\"Your solution could be: Do not do monocultures and implement educational measures for sustainable farming practices\")\n",
    "elif issue == \"Urbanization and other types of land development\":\n",
    "  print(\"Your solution could be: Reduce soil sealing and add space for greenery in urban areas\")\n",
    "elif issue == \"Climate Change\":\n",
    "  print(\"Your solution could be: Reduce emissions produced by humans and animals\")\n",
    "elif issue == \"Stripping the land of resources\":\n",
    "  print(\"Your solution could be: Reduce dependency on fossil and finite resources\")\n",
    "elif issue == \"Natural Disasters\":\n",
    "  print(\"Your solution could be: Prepare for local risk for natural disasters\")\n"
   ]
  },
  {
   "cell_type": "code",
   "execution_count": null,
   "id": "e82d7b8e",
   "metadata": {},
   "outputs": [],
   "source": []
  }
 ],
 "metadata": {
  "kernelspec": {
   "display_name": "Python 3 (ipykernel)",
   "language": "python",
   "name": "python3"
  },
  "language_info": {
   "codemirror_mode": {
    "name": "ipython",
    "version": 3
   },
   "file_extension": ".py",
   "mimetype": "text/x-python",
   "name": "python",
   "nbconvert_exporter": "python",
   "pygments_lexer": "ipython3",
   "version": "3.9.13"
  }
 },
 "nbformat": 4,
 "nbformat_minor": 5
}
